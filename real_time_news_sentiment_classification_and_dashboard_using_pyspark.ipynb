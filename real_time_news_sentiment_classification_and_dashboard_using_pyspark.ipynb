{
  "nbformat": 4,
  "nbformat_minor": 0,
  "metadata": {
    "colab": {
      "provenance": []
    },
    "kernelspec": {
      "name": "python3",
      "display_name": "Python 3"
    },
    "language_info": {
      "name": "python"
    }
  },
  "cells": [
    {
      "cell_type": "code",
      "execution_count": 3,
      "metadata": {
        "id": "39rEVgQSZMPS"
      },
      "outputs": [],
      "source": [
        "# Start Spark\n",
        "from pyspark.sql import SparkSession\n",
        "spark = SparkSession.builder.appName(\"News Sentiment Analysis\").getOrCreate()\n"
      ]
    },
    {
      "cell_type": "code",
      "source": [
        "\n",
        "# Fetch News from NewsAPI\n",
        "import requests\n",
        "api_key = \"fb9d74dc3ef14050b8a6be2148b10f2b\"  # Replace with your actual key\n",
        "query = \"Artificial Intelligence\"\n",
        "url = f\"https://newsapi.org/v2/everything?q={query}&language=en&pageSize=100&apiKey={api_key}\"\n",
        "\n",
        "response = requests.get(url)\n",
        "articles = response.json().get(\"articles\", [])\n",
        "\n"
      ],
      "metadata": {
        "id": "HSl9ss3SbaL9"
      },
      "execution_count": 4,
      "outputs": []
    },
    {
      "cell_type": "code",
      "source": [
        "# Prepare Data\n",
        "from pyspark.sql import Row\n",
        "rows = [Row(title=art['title'], description=art['description'] or \"\") for art in articles]\n",
        "news_df = spark.createDataFrame(rows)\n"
      ],
      "metadata": {
        "id": "14Wrpx4rbjHT"
      },
      "execution_count": 5,
      "outputs": []
    },
    {
      "cell_type": "code",
      "source": [
        "# Text Preprocessing & Sentiment Analysis\n",
        "from textblob import TextBlob\n",
        "from pyspark.sql.functions import udf\n",
        "from pyspark.sql.types import StringType\n",
        "\n",
        "def get_sentiment(text):\n",
        "    if not text: return \"neutral\"\n",
        "    score = TextBlob(text).sentiment.polarity\n",
        "    return \"positive\" if score > 0 else \"negative\" if score < 0 else \"neutral\"\n",
        "\n",
        "sentiment_udf = udf(get_sentiment, StringType())\n",
        "news_df = news_df.withColumn(\"sentiment\", sentiment_udf(news_df.description))\n"
      ],
      "metadata": {
        "id": "wgusvY70bl0S"
      },
      "execution_count": 6,
      "outputs": []
    },
    {
      "cell_type": "code",
      "source": [
        "# Show Sentiment Summary\n",
        "news_df.groupBy(\"sentiment\").count().show()\n",
        "\n",
        "# Show Top Positive/Negative Headlines\n",
        "print(\"🔹 Positive News:\")\n",
        "news_df.filter(\"sentiment = 'positive'\").select(\"title\").show(5, truncate=False)\n",
        "\n",
        "print(\"🔹 Negative News:\")\n",
        "news_df.filter(\"sentiment = 'negative'\").select(\"title\").show(5, truncate=False)\n",
        "\n",
        "# Stop Spark (for local runs)\n",
        "# spark.stop()"
      ],
      "metadata": {
        "colab": {
          "base_uri": "https://localhost:8080/"
        },
        "id": "eu-IkRdPbo8f",
        "outputId": "ab41be76-62a9-4b47-f4a5-46306d6b3fea"
      },
      "execution_count": 7,
      "outputs": [
        {
          "output_type": "stream",
          "name": "stdout",
          "text": [
            "+---------+-----+\n",
            "|sentiment|count|\n",
            "+---------+-----+\n",
            "| positive|   40|\n",
            "|  neutral|   18|\n",
            "| negative|   42|\n",
            "+---------+-----+\n",
            "\n",
            "🔹 Positive News:\n",
            "+----------------------------------------------------------------------------------------------------------+\n",
            "|title                                                                                                     |\n",
            "+----------------------------------------------------------------------------------------------------------+\n",
            "|Delta Air Lines is using AI to set the maximum price you’re willing to pay                                |\n",
            "|Andy Cohen on How He Uses AI: ‘It’s an Incredible Tool. But It’s Going to Make Idiots’                    |\n",
            "|Microsoft transfers a top cybersecurity executive out of the company's security group, internal memo shows|\n",
            "|Artificial intelligence fuels Big Tech partnerships with nuclear energy producers                         |\n",
            "|The Latest ‘Alien: Earth’ Trailer Adds Even More Alien Monsters                                           |\n",
            "+----------------------------------------------------------------------------------------------------------+\n",
            "only showing top 5 rows\n",
            "\n",
            "🔹 Negative News:\n",
            "+------------------------------------------------------------------------------------------------+\n",
            "|title                                                                                           |\n",
            "+------------------------------------------------------------------------------------------------+\n",
            "|Microsoft, OpenAI, and a US Teachers’ Union Are Hatching a Plan to ‘Bring AI into the Classroom’|\n",
            "|OpenAI’s Unreleased AGI Paper Could Complicate Microsoft Negotiations                           |\n",
            "|Bernie Sanders Reveals the AI ‘Doomsday Scenario’ That Worries Top Experts                      |\n",
            "|These 4 charts show where the hedge fund industry is midway through 2025                        |\n",
            "|M3gan 2.0 is a fun upgrade that’s a little too self-aware                                       |\n",
            "+------------------------------------------------------------------------------------------------+\n",
            "only showing top 5 rows\n",
            "\n"
          ]
        }
      ]
    },
    {
      "cell_type": "code",
      "source": [
        "news_df.toPandas().to_csv(\"news_sentiment.csv\", index=False)\n"
      ],
      "metadata": {
        "id": "MTzPUdK7bt4K"
      },
      "execution_count": 8,
      "outputs": []
    },
    {
      "cell_type": "code",
      "source": [],
      "metadata": {
        "id": "M0cIle_VbzQz"
      },
      "execution_count": null,
      "outputs": []
    }
  ]
}
